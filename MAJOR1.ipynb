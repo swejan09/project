{
  "nbformat": 4,
  "nbformat_minor": 0,
  "metadata": {
    "colab": {
      "name": "MAJOR1.ipynb",
      "provenance": [],
      "collapsed_sections": []
    },
    "kernelspec": {
      "name": "python3",
      "display_name": "Python 3"
    },
    "language_info": {
      "name": "python"
    }
  },
  "cells": [
    {
      "cell_type": "code",
      "execution_count": 106,
      "metadata": {
        "colab": {
          "base_uri": "https://localhost:8080/",
          "height": 424
        },
        "id": "ijSJrNMA7zXj",
        "outputId": "ee4b8598-7a18-465a-9852-181ae4ad0466"
      },
      "outputs": [
        {
          "output_type": "execute_result",
          "data": {
            "text/plain": [
              "                                                  Review  Rating\n",
              "0      nice hotel expensive parking got good deal sta...       4\n",
              "1      ok nothing special charge diamond member hilto...       2\n",
              "2      nice rooms not 4* experience hotel monaco seat...       3\n",
              "3      unique, great stay, wonderful time hotel monac...       5\n",
              "4      great stay great stay, went seahawk game aweso...       5\n",
              "...                                                  ...     ...\n",
              "20486  best kept secret 3rd time staying charm, not 5...       5\n",
              "20487  great location price view hotel great quick pl...       4\n",
              "20488  ok just looks nice modern outside, desk staff ...       2\n",
              "20489  hotel theft ruined vacation hotel opened sept ...       1\n",
              "20490  people talking, ca n't believe excellent ratin...       2\n",
              "\n",
              "[20491 rows x 2 columns]"
            ],
            "text/html": [
              "\n",
              "  <div id=\"df-561a35c7-5538-4a89-8735-c7db93454c70\">\n",
              "    <div class=\"colab-df-container\">\n",
              "      <div>\n",
              "<style scoped>\n",
              "    .dataframe tbody tr th:only-of-type {\n",
              "        vertical-align: middle;\n",
              "    }\n",
              "\n",
              "    .dataframe tbody tr th {\n",
              "        vertical-align: top;\n",
              "    }\n",
              "\n",
              "    .dataframe thead th {\n",
              "        text-align: right;\n",
              "    }\n",
              "</style>\n",
              "<table border=\"1\" class=\"dataframe\">\n",
              "  <thead>\n",
              "    <tr style=\"text-align: right;\">\n",
              "      <th></th>\n",
              "      <th>Review</th>\n",
              "      <th>Rating</th>\n",
              "    </tr>\n",
              "  </thead>\n",
              "  <tbody>\n",
              "    <tr>\n",
              "      <th>0</th>\n",
              "      <td>nice hotel expensive parking got good deal sta...</td>\n",
              "      <td>4</td>\n",
              "    </tr>\n",
              "    <tr>\n",
              "      <th>1</th>\n",
              "      <td>ok nothing special charge diamond member hilto...</td>\n",
              "      <td>2</td>\n",
              "    </tr>\n",
              "    <tr>\n",
              "      <th>2</th>\n",
              "      <td>nice rooms not 4* experience hotel monaco seat...</td>\n",
              "      <td>3</td>\n",
              "    </tr>\n",
              "    <tr>\n",
              "      <th>3</th>\n",
              "      <td>unique, great stay, wonderful time hotel monac...</td>\n",
              "      <td>5</td>\n",
              "    </tr>\n",
              "    <tr>\n",
              "      <th>4</th>\n",
              "      <td>great stay great stay, went seahawk game aweso...</td>\n",
              "      <td>5</td>\n",
              "    </tr>\n",
              "    <tr>\n",
              "      <th>...</th>\n",
              "      <td>...</td>\n",
              "      <td>...</td>\n",
              "    </tr>\n",
              "    <tr>\n",
              "      <th>20486</th>\n",
              "      <td>best kept secret 3rd time staying charm, not 5...</td>\n",
              "      <td>5</td>\n",
              "    </tr>\n",
              "    <tr>\n",
              "      <th>20487</th>\n",
              "      <td>great location price view hotel great quick pl...</td>\n",
              "      <td>4</td>\n",
              "    </tr>\n",
              "    <tr>\n",
              "      <th>20488</th>\n",
              "      <td>ok just looks nice modern outside, desk staff ...</td>\n",
              "      <td>2</td>\n",
              "    </tr>\n",
              "    <tr>\n",
              "      <th>20489</th>\n",
              "      <td>hotel theft ruined vacation hotel opened sept ...</td>\n",
              "      <td>1</td>\n",
              "    </tr>\n",
              "    <tr>\n",
              "      <th>20490</th>\n",
              "      <td>people talking, ca n't believe excellent ratin...</td>\n",
              "      <td>2</td>\n",
              "    </tr>\n",
              "  </tbody>\n",
              "</table>\n",
              "<p>20491 rows × 2 columns</p>\n",
              "</div>\n",
              "      <button class=\"colab-df-convert\" onclick=\"convertToInteractive('df-561a35c7-5538-4a89-8735-c7db93454c70')\"\n",
              "              title=\"Convert this dataframe to an interactive table.\"\n",
              "              style=\"display:none;\">\n",
              "        \n",
              "  <svg xmlns=\"http://www.w3.org/2000/svg\" height=\"24px\"viewBox=\"0 0 24 24\"\n",
              "       width=\"24px\">\n",
              "    <path d=\"M0 0h24v24H0V0z\" fill=\"none\"/>\n",
              "    <path d=\"M18.56 5.44l.94 2.06.94-2.06 2.06-.94-2.06-.94-.94-2.06-.94 2.06-2.06.94zm-11 1L8.5 8.5l.94-2.06 2.06-.94-2.06-.94L8.5 2.5l-.94 2.06-2.06.94zm10 10l.94 2.06.94-2.06 2.06-.94-2.06-.94-.94-2.06-.94 2.06-2.06.94z\"/><path d=\"M17.41 7.96l-1.37-1.37c-.4-.4-.92-.59-1.43-.59-.52 0-1.04.2-1.43.59L10.3 9.45l-7.72 7.72c-.78.78-.78 2.05 0 2.83L4 21.41c.39.39.9.59 1.41.59.51 0 1.02-.2 1.41-.59l7.78-7.78 2.81-2.81c.8-.78.8-2.07 0-2.86zM5.41 20L4 18.59l7.72-7.72 1.47 1.35L5.41 20z\"/>\n",
              "  </svg>\n",
              "      </button>\n",
              "      \n",
              "  <style>\n",
              "    .colab-df-container {\n",
              "      display:flex;\n",
              "      flex-wrap:wrap;\n",
              "      gap: 12px;\n",
              "    }\n",
              "\n",
              "    .colab-df-convert {\n",
              "      background-color: #E8F0FE;\n",
              "      border: none;\n",
              "      border-radius: 50%;\n",
              "      cursor: pointer;\n",
              "      display: none;\n",
              "      fill: #1967D2;\n",
              "      height: 32px;\n",
              "      padding: 0 0 0 0;\n",
              "      width: 32px;\n",
              "    }\n",
              "\n",
              "    .colab-df-convert:hover {\n",
              "      background-color: #E2EBFA;\n",
              "      box-shadow: 0px 1px 2px rgba(60, 64, 67, 0.3), 0px 1px 3px 1px rgba(60, 64, 67, 0.15);\n",
              "      fill: #174EA6;\n",
              "    }\n",
              "\n",
              "    [theme=dark] .colab-df-convert {\n",
              "      background-color: #3B4455;\n",
              "      fill: #D2E3FC;\n",
              "    }\n",
              "\n",
              "    [theme=dark] .colab-df-convert:hover {\n",
              "      background-color: #434B5C;\n",
              "      box-shadow: 0px 1px 3px 1px rgba(0, 0, 0, 0.15);\n",
              "      filter: drop-shadow(0px 1px 2px rgba(0, 0, 0, 0.3));\n",
              "      fill: #FFFFFF;\n",
              "    }\n",
              "  </style>\n",
              "\n",
              "      <script>\n",
              "        const buttonEl =\n",
              "          document.querySelector('#df-561a35c7-5538-4a89-8735-c7db93454c70 button.colab-df-convert');\n",
              "        buttonEl.style.display =\n",
              "          google.colab.kernel.accessAllowed ? 'block' : 'none';\n",
              "\n",
              "        async function convertToInteractive(key) {\n",
              "          const element = document.querySelector('#df-561a35c7-5538-4a89-8735-c7db93454c70');\n",
              "          const dataTable =\n",
              "            await google.colab.kernel.invokeFunction('convertToInteractive',\n",
              "                                                     [key], {});\n",
              "          if (!dataTable) return;\n",
              "\n",
              "          const docLinkHtml = 'Like what you see? Visit the ' +\n",
              "            '<a target=\"_blank\" href=https://colab.research.google.com/notebooks/data_table.ipynb>data table notebook</a>'\n",
              "            + ' to learn more about interactive tables.';\n",
              "          element.innerHTML = '';\n",
              "          dataTable['output_type'] = 'display_data';\n",
              "          await google.colab.output.renderOutput(dataTable, element);\n",
              "          const docLink = document.createElement('div');\n",
              "          docLink.innerHTML = docLinkHtml;\n",
              "          element.appendChild(docLink);\n",
              "        }\n",
              "      </script>\n",
              "    </div>\n",
              "  </div>\n",
              "  "
            ]
          },
          "metadata": {},
          "execution_count": 106
        }
      ],
      "source": [
        "import pandas as pd\n",
        "df = pd.read_csv('/content/tripadvisor_hotel_reviews.csv')\n",
        "df"
      ]
    },
    {
      "cell_type": "code",
      "source": [
        "df.info()"
      ],
      "metadata": {
        "colab": {
          "base_uri": "https://localhost:8080/"
        },
        "id": "OoU4OT7490Ut",
        "outputId": "5727eb9d-9b93-4dfc-cab2-ada2a717e393"
      },
      "execution_count": 107,
      "outputs": [
        {
          "output_type": "stream",
          "name": "stdout",
          "text": [
            "<class 'pandas.core.frame.DataFrame'>\n",
            "RangeIndex: 20491 entries, 0 to 20490\n",
            "Data columns (total 2 columns):\n",
            " #   Column  Non-Null Count  Dtype \n",
            "---  ------  --------------  ----- \n",
            " 0   Review  20491 non-null  object\n",
            " 1   Rating  20491 non-null  int64 \n",
            "dtypes: int64(1), object(1)\n",
            "memory usage: 320.3+ KB\n"
          ]
        }
      ]
    },
    {
      "cell_type": "code",
      "source": [
        "df=df.drop(df.index[2000:],axis=0)\n"
      ],
      "metadata": {
        "id": "SSsl_u0lE1Uw"
      },
      "execution_count": 108,
      "outputs": []
    },
    {
      "cell_type": "code",
      "source": [
        "df['Rating'].value_counts()"
      ],
      "metadata": {
        "colab": {
          "base_uri": "https://localhost:8080/"
        },
        "id": "LeFHct4h93n2",
        "outputId": "07b4978e-d53b-49a5-8912-94c6802573b3"
      },
      "execution_count": 109,
      "outputs": [
        {
          "output_type": "execute_result",
          "data": {
            "text/plain": [
              "5    803\n",
              "4    593\n",
              "3    243\n",
              "2    188\n",
              "1    173\n",
              "Name: Rating, dtype: int64"
            ]
          },
          "metadata": {},
          "execution_count": 109
        }
      ]
    },
    {
      "cell_type": "code",
      "source": [
        "df['Rating'].value_counts().plot(kind = 'bar')"
      ],
      "metadata": {
        "colab": {
          "base_uri": "https://localhost:8080/",
          "height": 280
        },
        "id": "iDzxiEMT98bW",
        "outputId": "6a2e407b-be01-4da2-bea5-e96925b4c028"
      },
      "execution_count": 110,
      "outputs": [
        {
          "output_type": "execute_result",
          "data": {
            "text/plain": [
              "<matplotlib.axes._subplots.AxesSubplot at 0x7fac6b91c050>"
            ]
          },
          "metadata": {},
          "execution_count": 110
        },
        {
          "output_type": "display_data",
          "data": {
            "text/plain": [
              "<Figure size 432x288 with 1 Axes>"
            ],
            "image/png": "[encoded data removed]"
          },
          "metadata": {
            "needs_background": "light"
          }
        }
      ]
    },
    {
      "cell_type": "code",
      "source": [
        "x = df.iloc[:,0].values \n",
        "y = df.iloc[:,1].values"
      ],
      "metadata": {
        "id": "KZ6wof41-JF8"
      },
      "execution_count": 111,
      "outputs": []
    },
    {
      "cell_type": "code",
      "source": [
        "x"
      ],
      "metadata": {
        "colab": {
          "base_uri": "https://localhost:8080/"
        },
        "id": "OxoHQ1qrAer3",
        "outputId": "7f8c1553-642c-4617-bcf5-e0eff5ea904c"
      },
      "execution_count": 112,
      "outputs": [
        {
          "output_type": "execute_result",
          "data": {
            "text/plain": [
              "array(['nice hotel expensive parking got good deal stay hotel anniversary, arrived late evening took advice previous reviews did valet parking, check quick easy, little disappointed non-existent view room room clean nice size, bed comfortable woke stiff neck high pillows, not soundproof like heard music room night morning loud bangs doors opening closing hear people talking hallway, maybe just noisy neighbors, aveda bath products nice, did not goldfish stay nice touch taken advantage staying longer, location great walking distance shopping, overall nice experience having pay 40 parking night,  ',\n",
              "       'ok nothing special charge diamond member hilton decided chain shot 20th anniversary seattle, start booked suite paid extra website description not, suite bedroom bathroom standard hotel room, took printed reservation desk showed said things like tv couch ect desk clerk told oh mixed suites description kimpton website sorry free breakfast, got kidding, embassy suits sitting room bathroom bedroom unlike kimpton calls suite, 5 day stay offer correct false advertising, send kimpton preferred guest website email asking failure provide suite advertised website reservation description furnished hard copy reservation printout website desk manager duty did not reply solution, send email trip guest survey did not follow email mail, guess tell concerned guest.the staff ranged indifferent not helpful, asked desk good breakfast spots neighborhood hood told no hotels, gee best breakfast spots seattle 1/2 block away convenient hotel does not know exist, arrived late night 11 pm inside run bellman busy chating cell phone help bags.prior arrival emailed hotel inform 20th anniversary half really picky wanted make sure good, got nice email saying like deliver bottle champagne chocolate covered strawberries room arrival celebrate, told needed foam pillows, arrival no champagne strawberries no foam pillows great room view alley high rise building good not better housekeeping staff cleaner room property, impressed left morning shopping room got short trips 2 hours, beds comfortable.not good ac-heat control 4 x 4 inch screen bring green shine directly eyes night, light sensitive tape controls.this not 4 start hotel clean business hotel super high rates, better chain hotels seattle,  ',\n",
              "       \"nice rooms not 4* experience hotel monaco seattle good hotel n't 4* level.positives large bathroom mediterranean suite comfortable bed pillowsattentive housekeeping staffnegatives ac unit malfunctioned stay desk disorganized, missed 3 separate wakeup calls, concierge busy hard touch, did n't provide guidance special requests.tv hard use ipod sound dock suite non functioning. decided book mediterranean suite 3 night weekend stay 1st choice rest party filled, comparison w spent 45 night larger square footage room great soaking tub whirlpool jets nice shower.before stay hotel arrange car service price 53 tip reasonable driver waiting arrival.checkin easy downside room picked 2 person jacuzi tub no bath accessories salts bubble bath did n't stay, night got 12/1a checked voucher bottle champagne nice gesture fish waiting room, impression room huge open space felt room big, tv far away bed chore change channel, ipod dock broken disappointing.in morning way asked desk check thermostat said 65f 74 2 degrees warm try cover face night bright blue light kept, got room night no, 1st drop desk, called maintainence came look thermostat told play settings happy digital box wo n't work, asked wakeup 10am morning did n't happen, called later 6pm nap wakeup forgot, 10am wakeup morning yep forgotten.the bathroom facilities great room surprised room sold whirlpool bath tub n't bath amenities, great relax water jets going,  \",\n",
              "       ...,\n",
              "       \"great time, just returned trip stayed 7 nights outrigger waikiki beach.it far happening location waikiki, busy, really enjoyed hitting happy hour hula grill cheap drinks happy hour food, food great, dukes happening place great food, make reservations, walk strip cheap drinks 1.00 beers 2.00 mai tai afternoon location not good outrigger waikiki beach is.i agree reviews noisy hotel, strongly suggest staying higher floors, originally room 2nd floor moved 6th floor, big difference.the walls thin.but ca n't beat location outrigger waikiki beach, location location location stayed hotels waikiki looking happening time choose outrigger waikiki beach, looking relaxing time choose hilton hawaiin village islands,  \",\n",
              "       'best location value properties waikiki head hotel building beach head main drag, them.our city view room 4th floor elevator great room design reduced noise, bathroom tiny appointed, room nicely decorated hawaiiaana, sure 75 view looking backside royal hawaiian lanai nice view beach.we wait elevator twice nights, no big, valet operation nicest convenient encountered, valet rates went 11/1/05 17 night,  ',\n",
              "       'really enjoyed property great terrific location staff outstanding friendly helpful, room adequate size 2, automatically upgraded city view partial ocean view room asking, housekeeping staff did excellent job cleaning room daily making sure plenty towels, personell pool congenial gentlemen took care valet parking, provided excellent directions day used rental car.i used coupon entertainment coupon book savings 15 daily days savings paid book purchased 1/2 price, walls tad did not problem sleeping relaxing etc.i surely not hesitate recommend hotel, extra security use plastic room card access elevators comforting, ate dukes hula grill liked restaurants.try like,  '],\n",
              "      dtype=object)"
            ]
          },
          "metadata": {},
          "execution_count": 112
        }
      ]
    },
    {
      "cell_type": "code",
      "source": [
        "y"
      ],
      "metadata": {
        "colab": {
          "base_uri": "https://localhost:8080/"
        },
        "id": "xeDTojs-AiAD",
        "outputId": "48ae316e-c6a7-4cc8-beba-d37ce9aaf52e"
      },
      "execution_count": 113,
      "outputs": [
        {
          "output_type": "execute_result",
          "data": {
            "text/plain": [
              "array([4, 2, 3, ..., 4, 4, 5])"
            ]
          },
          "metadata": {},
          "execution_count": 113
        }
      ]
    },
    {
      "cell_type": "code",
      "source": [
        "from sklearn.model_selection import train_test_split\n",
        "x_train,x_test,y_train,y_test = train_test_split(x,y,random_state = 0) "
      ],
      "metadata": {
        "id": "mBLGncxgAoLA"
      },
      "execution_count": 114,
      "outputs": []
    },
    {
      "cell_type": "code",
      "source": [
        "from sklearn.feature_extraction.text import TfidfVectorizer\n",
        "vect = TfidfVectorizer()\n",
        "x_train_v = vect.fit_transform(x_train)\n",
        "x_test_v = vect.transform(x_test)"
      ],
      "metadata": {
        "id": "7f2KUIdzAtLk"
      },
      "execution_count": 115,
      "outputs": []
    },
    {
      "cell_type": "code",
      "source": [
        "from sklearn.svm import SVC\n",
        "model = SVC()"
      ],
      "metadata": {
        "id": "SdTaMxarAwxA"
      },
      "execution_count": 116,
      "outputs": []
    },
    {
      "cell_type": "code",
      "source": [
        "model.fit(x_train_v,y_train)\n"
      ],
      "metadata": {
        "colab": {
          "base_uri": "https://localhost:8080/"
        },
        "id": "uyEnKZg9C0FW",
        "outputId": "9468f773-d634-4494-e57a-db4ab603f0f9"
      },
      "execution_count": 117,
      "outputs": [
        {
          "output_type": "execute_result",
          "data": {
            "text/plain": [
              "SVC()"
            ]
          },
          "metadata": {},
          "execution_count": 117
        }
      ]
    },
    {
      "cell_type": "code",
      "source": [
        "y_pred = model.predict(x_test_v)\n",
        "y_pred "
      ],
      "metadata": {
        "colab": {
          "base_uri": "https://localhost:8080/"
        },
        "id": "Nc-4NR5BFL1g",
        "outputId": "97edb5d7-9ef4-4f67-9726-d2e87ae3627e"
      },
      "execution_count": 118,
      "outputs": [
        {
          "output_type": "execute_result",
          "data": {
            "text/plain": [
              "array([4, 5, 5, 4, 4, 5, 4, 5, 5, 4, 5, 5, 4, 2, 5, 5, 4, 5, 5, 5, 4, 5,\n",
              "       5, 5, 4, 5, 5, 5, 5, 5, 5, 5, 5, 4, 5, 4, 5, 4, 4, 4, 4, 5, 5, 5,\n",
              "       5, 5, 5, 5, 5, 5, 5, 4, 5, 4, 5, 2, 5, 1, 4, 5, 4, 1, 5, 5, 4, 5,\n",
              "       5, 5, 4, 4, 5, 4, 4, 4, 4, 5, 4, 4, 4, 5, 5, 4, 5, 5, 5, 5, 5, 5,\n",
              "       4, 5, 4, 4, 4, 4, 5, 5, 5, 4, 5, 4, 5, 5, 5, 5, 5, 4, 5, 5, 5, 5,\n",
              "       4, 4, 4, 4, 5, 4, 2, 5, 4, 5, 4, 4, 5, 4, 5, 5, 5, 5, 5, 5, 5, 4,\n",
              "       5, 4, 5, 5, 5, 4, 5, 4, 4, 4, 5, 4, 4, 5, 4, 5, 5, 5, 5, 5, 5, 5,\n",
              "       4, 5, 4, 4, 4, 5, 4, 5, 4, 4, 5, 4, 5, 4, 5, 5, 5, 4, 4, 5, 5, 4,\n",
              "       5, 4, 5, 4, 4, 5, 4, 4, 5, 5, 5, 5, 5, 5, 5, 5, 5, 4, 5, 4, 4, 4,\n",
              "       5, 4, 4, 4, 5, 5, 5, 4, 5, 5, 4, 5, 4, 4, 2, 5, 4, 4, 2, 5, 5, 5,\n",
              "       1, 5, 5, 5, 5, 4, 4, 5, 5, 5, 5, 4, 4, 5, 5, 5, 2, 5, 5, 4, 4, 4,\n",
              "       4, 4, 5, 5, 4, 5, 4, 4, 5, 4, 4, 5, 4, 5, 4, 4, 5, 5, 5, 5, 5, 5,\n",
              "       4, 5, 5, 4, 5, 5, 4, 4, 4, 5, 5, 5, 4, 4, 4, 5, 1, 5, 2, 4, 5, 2,\n",
              "       5, 5, 5, 5, 1, 5, 1, 4, 4, 4, 5, 5, 4, 5, 5, 5, 5, 4, 5, 5, 4, 5,\n",
              "       1, 5, 4, 5, 5, 5, 4, 1, 4, 4, 1, 5, 5, 5, 5, 5, 4, 4, 5, 5, 5, 2,\n",
              "       5, 4, 4, 5, 5, 5, 5, 4, 5, 4, 5, 5, 5, 5, 4, 4, 4, 5, 5, 4, 4, 5,\n",
              "       4, 5, 5, 5, 5, 4, 2, 5, 5, 4, 5, 4, 5, 5, 4, 4, 5, 4, 4, 5, 4, 1,\n",
              "       5, 5, 4, 5, 2, 5, 5, 5, 5, 5, 4, 5, 5, 4, 5, 5, 5, 5, 5, 5, 5, 4,\n",
              "       4, 5, 4, 4, 4, 5, 5, 4, 4, 5, 2, 4, 4, 4, 4, 5, 5, 5, 4, 5, 5, 2,\n",
              "       4, 4, 5, 4, 5, 4, 5, 4, 1, 1, 4, 4, 5, 5, 4, 1, 5, 5, 5, 5, 5, 5,\n",
              "       5, 5, 5, 4, 5, 4, 4, 5, 5, 4, 5, 4, 5, 5, 4, 5, 5, 5, 5, 5, 5, 5,\n",
              "       2, 2, 5, 4, 5, 5, 5, 5, 1, 4, 4, 1, 1, 5, 5, 4, 5, 5, 5, 5, 5, 5,\n",
              "       4, 4, 4, 5, 4, 5, 4, 5, 4, 5, 5, 5, 5, 4, 5, 5])"
            ]
          },
          "metadata": {},
          "execution_count": 118
        }
      ]
    },
    {
      "cell_type": "code",
      "source": [
        "y_test "
      ],
      "metadata": {
        "colab": {
          "base_uri": "https://localhost:8080/"
        },
        "id": "shyt11AcFPtl",
        "outputId": "2a8c576c-566e-434d-9628-0259906bbce1"
      },
      "execution_count": 119,
      "outputs": [
        {
          "output_type": "execute_result",
          "data": {
            "text/plain": [
              "array([3, 5, 4, 5, 5, 4, 4, 5, 4, 5, 5, 5, 3, 2, 5, 5, 4, 2, 4, 5, 4, 5,\n",
              "       5, 5, 5, 4, 1, 5, 5, 4, 3, 5, 5, 4, 5, 3, 4, 1, 4, 3, 3, 5, 5, 5,\n",
              "       5, 4, 5, 4, 5, 5, 5, 5, 1, 4, 5, 1, 2, 2, 2, 4, 5, 2, 4, 5, 3, 5,\n",
              "       5, 5, 3, 5, 4, 3, 5, 4, 1, 4, 3, 2, 4, 5, 5, 5, 4, 5, 5, 2, 5, 4,\n",
              "       3, 5, 5, 5, 5, 3, 5, 5, 5, 2, 4, 3, 5, 5, 4, 4, 5, 4, 5, 4, 3, 5,\n",
              "       5, 3, 2, 3, 5, 3, 1, 1, 4, 5, 4, 5, 3, 5, 5, 5, 4, 4, 5, 4, 4, 4,\n",
              "       5, 3, 4, 5, 2, 4, 5, 3, 5, 4, 5, 4, 4, 5, 4, 4, 3, 4, 5, 5, 5, 4,\n",
              "       4, 5, 4, 3, 3, 5, 4, 4, 4, 5, 5, 3, 5, 3, 5, 5, 3, 4, 4, 3, 5, 1,\n",
              "       1, 1, 1, 1, 4, 4, 4, 2, 5, 5, 4, 5, 5, 4, 5, 5, 4, 3, 4, 2, 4, 1,\n",
              "       5, 4, 3, 4, 5, 3, 5, 3, 4, 5, 1, 5, 1, 1, 1, 5, 5, 4, 1, 2, 5, 5,\n",
              "       2, 5, 4, 5, 4, 4, 5, 5, 4, 5, 4, 4, 4, 4, 1, 5, 2, 5, 1, 1, 3, 5,\n",
              "       3, 3, 4, 4, 3, 5, 2, 4, 5, 4, 3, 5, 3, 5, 3, 4, 5, 5, 5, 4, 5, 5,\n",
              "       4, 5, 3, 3, 5, 5, 3, 2, 2, 5, 2, 4, 5, 5, 3, 5, 1, 5, 1, 5, 5, 1,\n",
              "       5, 2, 5, 5, 1, 1, 1, 2, 4, 4, 5, 2, 4, 5, 5, 4, 5, 1, 5, 4, 2, 4,\n",
              "       1, 4, 4, 5, 5, 4, 4, 1, 3, 4, 1, 4, 4, 5, 5, 5, 5, 3, 4, 5, 5, 1,\n",
              "       3, 4, 3, 4, 5, 5, 5, 3, 4, 3, 4, 5, 4, 5, 4, 2, 4, 3, 5, 4, 3, 5,\n",
              "       3, 4, 5, 4, 5, 3, 2, 5, 4, 4, 4, 1, 5, 4, 5, 2, 4, 4, 3, 5, 3, 1,\n",
              "       3, 5, 4, 5, 1, 4, 4, 5, 5, 5, 3, 4, 2, 2, 5, 5, 5, 5, 5, 5, 5, 4,\n",
              "       5, 5, 3, 4, 5, 4, 1, 3, 4, 5, 1, 4, 1, 4, 2, 5, 4, 5, 2, 5, 5, 1,\n",
              "       4, 4, 5, 3, 5, 3, 5, 5, 1, 1, 2, 4, 5, 5, 4, 1, 5, 4, 4, 3, 4, 5,\n",
              "       5, 4, 5, 4, 5, 4, 2, 5, 5, 4, 3, 4, 2, 5, 4, 5, 5, 5, 5, 5, 5, 5,\n",
              "       4, 3, 5, 4, 4, 5, 5, 5, 1, 3, 3, 1, 1, 3, 4, 4, 5, 5, 5, 4, 2, 5,\n",
              "       3, 4, 5, 4, 2, 3, 4, 1, 4, 5, 5, 5, 5, 5, 4, 5])"
            ]
          },
          "metadata": {},
          "execution_count": 119
        }
      ]
    },
    {
      "cell_type": "code",
      "source": [
        "from sklearn.metrics import accuracy_score\n",
        "accuracy_score(y_pred,y_test)*100"
      ],
      "metadata": {
        "colab": {
          "base_uri": "https://localhost:8080/"
        },
        "id": "iUHoAamYFSum",
        "outputId": "39a37e16-e136-406e-c192-bef6f65ab62e"
      },
      "execution_count": 120,
      "outputs": [
        {
          "output_type": "execute_result",
          "data": {
            "text/plain": [
              "52.0"
            ]
          },
          "metadata": {},
          "execution_count": 120
        }
      ]
    },
    {
      "cell_type": "code",
      "source": [
        "a = df['Review'][10]\n",
        "a"
      ],
      "metadata": {
        "colab": {
          "base_uri": "https://localhost:8080/",
          "height": 71
        },
        "id": "GdBD0djZFZQ6",
        "outputId": "21298589-0456-45aa-be5c-ac3536b99f65"
      },
      "execution_count": 121,
      "outputs": [
        {
          "output_type": "execute_result",
          "data": {
            "text/plain": [
              "\"poor value stayed monaco seattle july, nice hotel priced 100- 150 night not, hotel takes beating quotient, experience simply average, nothing exceptional paying 300+ n't ca n't terribly disappointed, wife stayed nicest suites 200/night felt like overpaying, best advice shop, quality-wise league average marriott nice best western,  \""
            ],
            "application/vnd.google.colaboratory.intrinsic+json": {
              "type": "string"
            }
          },
          "metadata": {},
          "execution_count": 121
        }
      ]
    },
    {
      "cell_type": "code",
      "source": [
        "a = vect.transform([a])\n",
        "model.predict(a)"
      ],
      "metadata": {
        "colab": {
          "base_uri": "https://localhost:8080/"
        },
        "id": "x_v94iZ0FexH",
        "outputId": "c3e12b1e-75ac-41e8-c6fa-fc205ed04fe4"
      },
      "execution_count": 122,
      "outputs": [
        {
          "output_type": "execute_result",
          "data": {
            "text/plain": [
              "array([2])"
            ]
          },
          "metadata": {},
          "execution_count": 122
        }
      ]
    },
    {
      "cell_type": "code",
      "source": [
        "b = df['Review'][40]\n",
        "b"
      ],
      "metadata": {
        "colab": {
          "base_uri": "https://localhost:8080/",
          "height": 160
        },
        "id": "L_SWUIAKFt7s",
        "outputId": "f539ca4d-a700-477a-99fc-e41a5c89e64f"
      },
      "execution_count": 123,
      "outputs": [
        {
          "output_type": "execute_result",
          "data": {
            "text/plain": [
              "'bad choice, booked hotel hot wire called immediately requesting nonsmoking room king bed room away elevator/ice.the person spoke pleasant stated not guarantee requests honored make note reservation, check-in person desk rude said no special request noted reservation card andstated no king beds way reservation stuck 2 double beds, located directly accross elevator ice, nonsmoking, no elevator parking garage hotel, warwick mats garage filthy stairwells, hotel faces 4th smells urine, carpets registration elevator area need cleaning, upholstery curtains room needed cleaning andpressing sign bathroom water conservation tub facet dripped continuously, tub drain needsattention shower curtain holes, no coffee maker room, bedding did not fit bed sleeping directly mattress bedding askew, staff unfriendly short, housekeeping staff quite pleasant, stay hotel,  '"
            ],
            "application/vnd.google.colaboratory.intrinsic+json": {
              "type": "string"
            }
          },
          "metadata": {},
          "execution_count": 123
        }
      ]
    },
    {
      "cell_type": "code",
      "source": [
        "b = vect.transform([b])\n",
        "model.predict(b)"
      ],
      "metadata": {
        "colab": {
          "base_uri": "https://localhost:8080/"
        },
        "id": "EQFhNc6sF0H8",
        "outputId": "bf03dafc-f37c-471e-800d-4c2c492b8b3b"
      },
      "execution_count": 124,
      "outputs": [
        {
          "output_type": "execute_result",
          "data": {
            "text/plain": [
              "array([1])"
            ]
          },
          "metadata": {},
          "execution_count": 124
        }
      ]
    },
    {
      "cell_type": "code",
      "source": [
        "df['Rating'][40]"
      ],
      "metadata": {
        "colab": {
          "base_uri": "https://localhost:8080/"
        },
        "id": "tjiSsU2HGEAP",
        "outputId": "d51691ce-a46f-4ac2-e65c-60cd892be01b"
      },
      "execution_count": 125,
      "outputs": [
        {
          "output_type": "execute_result",
          "data": {
            "text/plain": [
              "1"
            ]
          },
          "metadata": {},
          "execution_count": 125
        }
      ]
    },
    {
      "cell_type": "code",
      "source": [
        "c = df['Review'][36]\n",
        "c"
      ],
      "metadata": {
        "colab": {
          "base_uri": "https://localhost:8080/",
          "height": 178
        },
        "id": "P98iyicRGKDz",
        "outputId": "509c4369-2082-49ec-f0d8-581fec5ef1bc"
      },
      "execution_count": 126,
      "outputs": [
        {
          "output_type": "execute_result",
          "data": {
            "text/plain": [
              "\"great value seattle spouse stayed warwick seattle days september, hotel does not disappoint reasonably priced stay downtown area, easy walk sightseeing attractions blocks waterfront free bus seattle figure worked research, room king bed spacious nicely appointed comfortable plenty pillows, coffee room course great seattle, bath finished marble deep tub hand-held shower nice touch, toiletries average not huge consideration, complaints concerned desk, reservations trip leg olympic penninsula decided cancel second reservation, arrived hotel day travel desk clerk kept waiting minutes hello, moved second desk clerk free told reservation not, no attempt look, walk stairs parking garage confirmation luggage did reservation, following day office tried told n't staying, parking 21/day pretty steep option parking seattle scarce, hotel does n't shuttle option cab 30.the hotel restaurant adequate really great breakfast walk block mayflower park hotel pricey fabulous,  \""
            ],
            "application/vnd.google.colaboratory.intrinsic+json": {
              "type": "string"
            }
          },
          "metadata": {},
          "execution_count": 126
        }
      ]
    },
    {
      "cell_type": "code",
      "source": [
        "c = vect.transform([c])\n",
        "model.predict(c)"
      ],
      "metadata": {
        "colab": {
          "base_uri": "https://localhost:8080/"
        },
        "id": "uwHiUOFwGPPJ",
        "outputId": "9863761e-030e-404e-8fb4-66b35e5ecca3"
      },
      "execution_count": 127,
      "outputs": [
        {
          "output_type": "execute_result",
          "data": {
            "text/plain": [
              "array([4])"
            ]
          },
          "metadata": {},
          "execution_count": 127
        }
      ]
    },
    {
      "cell_type": "code",
      "source": [
        "d=\"worst service\"\n",
        "d"
      ],
      "metadata": {
        "colab": {
          "base_uri": "https://localhost:8080/",
          "height": 35
        },
        "id": "DDZHwf9sGR9r",
        "outputId": "2b53346d-6233-4098-8ed0-e1d54501b832"
      },
      "execution_count": 128,
      "outputs": [
        {
          "output_type": "execute_result",
          "data": {
            "text/plain": [
              "'worst service'"
            ],
            "application/vnd.google.colaboratory.intrinsic+json": {
              "type": "string"
            }
          },
          "metadata": {},
          "execution_count": 128
        }
      ]
    },
    {
      "cell_type": "code",
      "source": [
        "d = vect.transform([d])\n",
        "model.predict(d)"
      ],
      "metadata": {
        "colab": {
          "base_uri": "https://localhost:8080/"
        },
        "id": "EcSn8UPhGZ_G",
        "outputId": "05e89aa3-d22c-4e75-9a22-c3a01f7a8a8f"
      },
      "execution_count": 129,
      "outputs": [
        {
          "output_type": "execute_result",
          "data": {
            "text/plain": [
              "array([1])"
            ]
          },
          "metadata": {},
          "execution_count": 129
        }
      ]
    },
    {
      "cell_type": "code",
      "source": [
        "from sklearn.pipeline import make_pipeline\n",
        "text_model = make_pipeline(TfidfVectorizer(),SVC())\n",
        "text_model.fit(x_train,y_train)"
      ],
      "metadata": {
        "colab": {
          "base_uri": "https://localhost:8080/"
        },
        "id": "VVUF5ATPGsfk",
        "outputId": "262e3aba-11f2-466c-d93d-932d4af2fca1"
      },
      "execution_count": 130,
      "outputs": [
        {
          "output_type": "execute_result",
          "data": {
            "text/plain": [
              "Pipeline(steps=[('tfidfvectorizer', TfidfVectorizer()), ('svc', SVC())])"
            ]
          },
          "metadata": {},
          "execution_count": 130
        }
      ]
    },
    {
      "cell_type": "code",
      "source": [
        "y_pred1 = text_model.predict(x_test)\n",
        "y_pred1"
      ],
      "metadata": {
        "colab": {
          "base_uri": "https://localhost:8080/"
        },
        "id": "Rh54QzjVGyB4",
        "outputId": "1ca57bad-1a12-4bae-fb4b-1f5651f1bce1"
      },
      "execution_count": 131,
      "outputs": [
        {
          "output_type": "execute_result",
          "data": {
            "text/plain": [
              "array([4, 5, 5, 4, 4, 5, 4, 5, 5, 4, 5, 5, 4, 2, 5, 5, 4, 5, 5, 5, 4, 5,\n",
              "       5, 5, 4, 5, 5, 5, 5, 5, 5, 5, 5, 4, 5, 4, 5, 4, 4, 4, 4, 5, 5, 5,\n",
              "       5, 5, 5, 5, 5, 5, 5, 4, 5, 4, 5, 2, 5, 1, 4, 5, 4, 1, 5, 5, 4, 5,\n",
              "       5, 5, 4, 4, 5, 4, 4, 4, 4, 5, 4, 4, 4, 5, 5, 4, 5, 5, 5, 5, 5, 5,\n",
              "       4, 5, 4, 4, 4, 4, 5, 5, 5, 4, 5, 4, 5, 5, 5, 5, 5, 4, 5, 5, 5, 5,\n",
              "       4, 4, 4, 4, 5, 4, 2, 5, 4, 5, 4, 4, 5, 4, 5, 5, 5, 5, 5, 5, 5, 4,\n",
              "       5, 4, 5, 5, 5, 4, 5, 4, 4, 4, 5, 4, 4, 5, 4, 5, 5, 5, 5, 5, 5, 5,\n",
              "       4, 5, 4, 4, 4, 5, 4, 5, 4, 4, 5, 4, 5, 4, 5, 5, 5, 4, 4, 5, 5, 4,\n",
              "       5, 4, 5, 4, 4, 5, 4, 4, 5, 5, 5, 5, 5, 5, 5, 5, 5, 4, 5, 4, 4, 4,\n",
              "       5, 4, 4, 4, 5, 5, 5, 4, 5, 5, 4, 5, 4, 4, 2, 5, 4, 4, 2, 5, 5, 5,\n",
              "       1, 5, 5, 5, 5, 4, 4, 5, 5, 5, 5, 4, 4, 5, 5, 5, 2, 5, 5, 4, 4, 4,\n",
              "       4, 4, 5, 5, 4, 5, 4, 4, 5, 4, 4, 5, 4, 5, 4, 4, 5, 5, 5, 5, 5, 5,\n",
              "       4, 5, 5, 4, 5, 5, 4, 4, 4, 5, 5, 5, 4, 4, 4, 5, 1, 5, 2, 4, 5, 2,\n",
              "       5, 5, 5, 5, 1, 5, 1, 4, 4, 4, 5, 5, 4, 5, 5, 5, 5, 4, 5, 5, 4, 5,\n",
              "       1, 5, 4, 5, 5, 5, 4, 1, 4, 4, 1, 5, 5, 5, 5, 5, 4, 4, 5, 5, 5, 2,\n",
              "       5, 4, 4, 5, 5, 5, 5, 4, 5, 4, 5, 5, 5, 5, 4, 4, 4, 5, 5, 4, 4, 5,\n",
              "       4, 5, 5, 5, 5, 4, 2, 5, 5, 4, 5, 4, 5, 5, 4, 4, 5, 4, 4, 5, 4, 1,\n",
              "       5, 5, 4, 5, 2, 5, 5, 5, 5, 5, 4, 5, 5, 4, 5, 5, 5, 5, 5, 5, 5, 4,\n",
              "       4, 5, 4, 4, 4, 5, 5, 4, 4, 5, 2, 4, 4, 4, 4, 5, 5, 5, 4, 5, 5, 2,\n",
              "       4, 4, 5, 4, 5, 4, 5, 4, 1, 1, 4, 4, 5, 5, 4, 1, 5, 5, 5, 5, 5, 5,\n",
              "       5, 5, 5, 4, 5, 4, 4, 5, 5, 4, 5, 4, 5, 5, 4, 5, 5, 5, 5, 5, 5, 5,\n",
              "       2, 2, 5, 4, 5, 5, 5, 5, 1, 4, 4, 1, 1, 5, 5, 4, 5, 5, 5, 5, 5, 5,\n",
              "       4, 4, 4, 5, 4, 5, 4, 5, 4, 5, 5, 5, 5, 4, 5, 5])"
            ]
          },
          "metadata": {},
          "execution_count": 131
        }
      ]
    },
    {
      "cell_type": "code",
      "source": [
        "y_test"
      ],
      "metadata": {
        "colab": {
          "base_uri": "https://localhost:8080/"
        },
        "id": "dgH6LrDrG1Ph",
        "outputId": "6c6613bb-52b3-4888-a5fe-c393036efe6a"
      },
      "execution_count": 132,
      "outputs": [
        {
          "output_type": "execute_result",
          "data": {
            "text/plain": [
              "array([3, 5, 4, 5, 5, 4, 4, 5, 4, 5, 5, 5, 3, 2, 5, 5, 4, 2, 4, 5, 4, 5,\n",
              "       5, 5, 5, 4, 1, 5, 5, 4, 3, 5, 5, 4, 5, 3, 4, 1, 4, 3, 3, 5, 5, 5,\n",
              "       5, 4, 5, 4, 5, 5, 5, 5, 1, 4, 5, 1, 2, 2, 2, 4, 5, 2, 4, 5, 3, 5,\n",
              "       5, 5, 3, 5, 4, 3, 5, 4, 1, 4, 3, 2, 4, 5, 5, 5, 4, 5, 5, 2, 5, 4,\n",
              "       3, 5, 5, 5, 5, 3, 5, 5, 5, 2, 4, 3, 5, 5, 4, 4, 5, 4, 5, 4, 3, 5,\n",
              "       5, 3, 2, 3, 5, 3, 1, 1, 4, 5, 4, 5, 3, 5, 5, 5, 4, 4, 5, 4, 4, 4,\n",
              "       5, 3, 4, 5, 2, 4, 5, 3, 5, 4, 5, 4, 4, 5, 4, 4, 3, 4, 5, 5, 5, 4,\n",
              "       4, 5, 4, 3, 3, 5, 4, 4, 4, 5, 5, 3, 5, 3, 5, 5, 3, 4, 4, 3, 5, 1,\n",
              "       1, 1, 1, 1, 4, 4, 4, 2, 5, 5, 4, 5, 5, 4, 5, 5, 4, 3, 4, 2, 4, 1,\n",
              "       5, 4, 3, 4, 5, 3, 5, 3, 4, 5, 1, 5, 1, 1, 1, 5, 5, 4, 1, 2, 5, 5,\n",
              "       2, 5, 4, 5, 4, 4, 5, 5, 4, 5, 4, 4, 4, 4, 1, 5, 2, 5, 1, 1, 3, 5,\n",
              "       3, 3, 4, 4, 3, 5, 2, 4, 5, 4, 3, 5, 3, 5, 3, 4, 5, 5, 5, 4, 5, 5,\n",
              "       4, 5, 3, 3, 5, 5, 3, 2, 2, 5, 2, 4, 5, 5, 3, 5, 1, 5, 1, 5, 5, 1,\n",
              "       5, 2, 5, 5, 1, 1, 1, 2, 4, 4, 5, 2, 4, 5, 5, 4, 5, 1, 5, 4, 2, 4,\n",
              "       1, 4, 4, 5, 5, 4, 4, 1, 3, 4, 1, 4, 4, 5, 5, 5, 5, 3, 4, 5, 5, 1,\n",
              "       3, 4, 3, 4, 5, 5, 5, 3, 4, 3, 4, 5, 4, 5, 4, 2, 4, 3, 5, 4, 3, 5,\n",
              "       3, 4, 5, 4, 5, 3, 2, 5, 4, 4, 4, 1, 5, 4, 5, 2, 4, 4, 3, 5, 3, 1,\n",
              "       3, 5, 4, 5, 1, 4, 4, 5, 5, 5, 3, 4, 2, 2, 5, 5, 5, 5, 5, 5, 5, 4,\n",
              "       5, 5, 3, 4, 5, 4, 1, 3, 4, 5, 1, 4, 1, 4, 2, 5, 4, 5, 2, 5, 5, 1,\n",
              "       4, 4, 5, 3, 5, 3, 5, 5, 1, 1, 2, 4, 5, 5, 4, 1, 5, 4, 4, 3, 4, 5,\n",
              "       5, 4, 5, 4, 5, 4, 2, 5, 5, 4, 3, 4, 2, 5, 4, 5, 5, 5, 5, 5, 5, 5,\n",
              "       4, 3, 5, 4, 4, 5, 5, 5, 1, 3, 3, 1, 1, 3, 4, 4, 5, 5, 5, 4, 2, 5,\n",
              "       3, 4, 5, 4, 2, 3, 4, 1, 4, 5, 5, 5, 5, 5, 4, 5])"
            ]
          },
          "metadata": {},
          "execution_count": 132
        }
      ]
    },
    {
      "cell_type": "code",
      "source": [
        "accuracy_score(y_pred1,y_test)*100"
      ],
      "metadata": {
        "colab": {
          "base_uri": "https://localhost:8080/"
        },
        "id": "-plhAtrYG253",
        "outputId": "3a8ddb97-32f1-4295-8967-1d6064ee8623"
      },
      "execution_count": 133,
      "outputs": [
        {
          "output_type": "execute_result",
          "data": {
            "text/plain": [
              "52.0"
            ]
          },
          "metadata": {},
          "execution_count": 133
        }
      ]
    },
    {
      "cell_type": "code",
      "source": [
        "text_model.predict(['good better'])"
      ],
      "metadata": {
        "colab": {
          "base_uri": "https://localhost:8080/"
        },
        "id": "ilAt3OOIHB6M",
        "outputId": "907d40b2-d2c6-49e2-dc66-ed3961df7bae"
      },
      "execution_count": 134,
      "outputs": [
        {
          "output_type": "execute_result",
          "data": {
            "text/plain": [
              "array([4])"
            ]
          },
          "metadata": {},
          "execution_count": 134
        }
      ]
    },
    {
      "cell_type": "code",
      "source": [
        "import joblib\n",
        "joblib.dump(text_model,'Rating')\n"
      ],
      "metadata": {
        "colab": {
          "base_uri": "https://localhost:8080/"
        },
        "id": "DstOEvaOHFJb",
        "outputId": "5cc9c7b0-61f1-4828-ea1b-b420b4bdc8b7"
      },
      "execution_count": 135,
      "outputs": [
        {
          "output_type": "execute_result",
          "data": {
            "text/plain": [
              "['Rating']"
            ]
          },
          "metadata": {},
          "execution_count": 135
        }
      ]
    },
    {
      "cell_type": "code",
      "source": [
        "!pip install streamlit --quiet "
      ],
      "metadata": {
        "id": "QFJMk5mbHUqA"
      },
      "execution_count": 136,
      "outputs": []
    },
    {
      "cell_type": "code",
      "source": [
        "%%writefile app.py\n",
        "import streamlit as st\n",
        "import joblib\n",
        "model = joblib.load('Rating')\n",
        "st.title('RATING_PRED')\n",
        "ip = st.text_input('Enter the Review of hotel')\n",
        "op = model.predict([ip])\n",
        "if st.button('Predict'):\n",
        "  st.title(op[0])#st.button will create a button with name predict\n",
        "  #st.title(op[0]) - the output will be displayed as a title"
      ],
      "metadata": {
        "colab": {
          "base_uri": "https://localhost:8080/"
        },
        "id": "TybLOpREICAV",
        "outputId": "a4d246be-5361-4042-bd3a-64dfa73f74d4"
      },
      "execution_count": 137,
      "outputs": [
        {
          "output_type": "stream",
          "name": "stdout",
          "text": [
            "Overwriting app.py\n"
          ]
        }
      ]
    },
    {
      "cell_type": "code",
      "source": [
        "!streamlit run app.py & npx localtunnel --port 8501\n"
      ],
      "metadata": {
        "colab": {
          "base_uri": "https://localhost:8080/"
        },
        "id": "7UWUSIYANaeU",
        "outputId": "c37d511e-4140-427d-cfd4-3f881217cb20"
      },
      "execution_count": null,
      "outputs": [
        {
          "output_type": "stream",
          "name": "stdout",
          "text": [
            "2022-07-17 08:46:28.393 INFO    numexpr.utils: NumExpr defaulting to 2 threads.\n",
            "\u001b[K\u001b[?25hnpx: installed 22 in 3.729s\n",
            "\u001b[0m\n",
            "\u001b[34m\u001b[1m  You can now view your Streamlit app in your browser.\u001b[0m\n",
            "\u001b[0m\n",
            "\u001b[34m  Network URL: \u001b[0m\u001b[1mhttp://172.28.0.2:8501\u001b[0m\n",
            "\u001b[34m  External URL: \u001b[0m\u001b[1mhttp://35.230.96.3:8501\u001b[0m\n",
            "\u001b[0m\n"
          ]
        }
      ]
    }
  ]
}